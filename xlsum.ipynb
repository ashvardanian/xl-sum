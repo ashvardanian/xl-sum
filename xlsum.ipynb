{
 "cells": [
  {
   "cell_type": "markdown",
   "metadata": {},
   "source": [
    "The original dataset was published as a compressed TAR-ball with several files per language. Each line of those files would contain a JSON. That isn't an issue for data-scientists, but makes it hard to use the dataset for other purposes, such as benchmarks for string-processing libraries. This script joins, cleans, shuffles and converts the dataset into a single CSV file."
   ]
  },
  {
   "cell_type": "code",
   "execution_count": null,
   "metadata": {},
   "outputs": [],
   "source": [
    "import os\n",
    "import pandas as pd\n",
    "\n",
    "directory = './XLSum_complete_v1.0/'\n",
    "output_file = './xlsum.csv'\n",
    "\n",
    "# Function to extract language from file name\n",
    "def extract_language(filename):\n",
    "    return filename.split('_')[0]"
   ]
  },
  {
   "cell_type": "code",
   "execution_count": null,
   "metadata": {},
   "outputs": [],
   "source": [
    "# List to hold dataframes\n",
    "dataframes = []\n",
    "\n",
    "# Loop through files in the directory\n",
    "for filename in os.listdir(directory):\n",
    "    if filename.endswith('.jsonl'):\n",
    "        file_path = os.path.join(directory, filename)\n",
    "        # Read the JSONL file\n",
    "        df = pd.read_json(file_path, lines=True)\n",
    "        # Add language column\n",
    "        language = extract_language(filename)\n",
    "        df['language'] = language\n",
    "        # Append to the list of dataframes\n",
    "        dataframes.append(df)"
   ]
  },
  {
   "cell_type": "code",
   "execution_count": null,
   "metadata": {},
   "outputs": [],
   "source": [
    "[d.head() for d in dataframes]"
   ]
  },
  {
   "cell_type": "code",
   "execution_count": null,
   "metadata": {},
   "outputs": [],
   "source": [
    "# Concatenate all dataframes\n",
    "combined_df = pd.concat(dataframes)\n",
    "combined_df.sample(100)"
   ]
  },
  {
   "cell_type": "code",
   "execution_count": null,
   "metadata": {},
   "outputs": [],
   "source": [
    "\n",
    "# Shuffle the rows\n",
    "combined_df = combined_df.sample(frac=1).reset_index(drop=True)\n",
    "\n",
    "# Write to CSV\n",
    "combined_df.to_csv(output_file, index=False)\n",
    "\n",
    "print(f\"Data written to {output_file}\")"
   ]
  }
 ],
 "metadata": {
  "kernelspec": {
   "display_name": "base",
   "language": "python",
   "name": "python3"
  },
  "language_info": {
   "codemirror_mode": {
    "name": "ipython",
    "version": 3
   },
   "file_extension": ".py",
   "mimetype": "text/x-python",
   "name": "python",
   "nbconvert_exporter": "python",
   "pygments_lexer": "ipython3",
   "version": "3.10.11"
  }
 },
 "nbformat": 4,
 "nbformat_minor": 2
}
